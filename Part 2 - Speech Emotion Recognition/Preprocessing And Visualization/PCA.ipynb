{
 "cells": [
  {
   "cell_type": "code",
   "execution_count": 1,
   "metadata": {
    "collapsed": true
   },
   "outputs": [],
   "source": [
    "import numpy as np\n",
    "import matplotlib.pyplot as plt\n",
    "import pandas as pd"
   ]
  },
  {
   "cell_type": "code",
   "execution_count": 2,
   "metadata": {},
   "outputs": [
    {
     "data": {
      "text/html": [
       "<div>\n",
       "<style>\n",
       "    .dataframe thead tr:only-child th {\n",
       "        text-align: right;\n",
       "    }\n",
       "\n",
       "    .dataframe thead th {\n",
       "        text-align: left;\n",
       "    }\n",
       "\n",
       "    .dataframe tbody tr th {\n",
       "        vertical-align: top;\n",
       "    }\n",
       "</style>\n",
       "<table border=\"1\" class=\"dataframe\">\n",
       "  <thead>\n",
       "    <tr style=\"text-align: right;\">\n",
       "      <th></th>\n",
       "      <th>Spectral Centroid</th>\n",
       "      <th>Spectral Rolloff Point</th>\n",
       "      <th>Spectral Flux</th>\n",
       "      <th>Compactness</th>\n",
       "      <th>Spectral Variability</th>\n",
       "      <th>Root Mean Square</th>\n",
       "      <th>Fraction Of Low Energy Windows</th>\n",
       "      <th>Zero Crossings</th>\n",
       "      <th>Strongest Frequency Via Zero Crossings</th>\n",
       "      <th>Strongest Frequency Via Spectral Centroid</th>\n",
       "      <th>...</th>\n",
       "      <th>Area Method of Moments of MFCCs 2</th>\n",
       "      <th>Area Method of Moments of MFCCs 3</th>\n",
       "      <th>Area Method of Moments of MFCCs 4</th>\n",
       "      <th>Area Method of Moments of MFCCs 5</th>\n",
       "      <th>Area Method of Moments of MFCCs 6</th>\n",
       "      <th>Area Method of Moments of MFCCs 7</th>\n",
       "      <th>Area Method of Moments of MFCCs 8</th>\n",
       "      <th>Area Method of Moments of MFCCs 9</th>\n",
       "      <th>Area Method of Moments of MFCCs 10</th>\n",
       "      <th>Emotion</th>\n",
       "    </tr>\n",
       "  </thead>\n",
       "  <tbody>\n",
       "    <tr>\n",
       "      <th>0</th>\n",
       "      <td>50.2</td>\n",
       "      <td>0.316</td>\n",
       "      <td>0.000124</td>\n",
       "      <td>753.0</td>\n",
       "      <td>0.000338</td>\n",
       "      <td>0.01280</td>\n",
       "      <td>0.000000e+00</td>\n",
       "      <td>70.5</td>\n",
       "      <td>1100.0</td>\n",
       "      <td>1570.0</td>\n",
       "      <td>...</td>\n",
       "      <td>146.0</td>\n",
       "      <td>3.15</td>\n",
       "      <td>28600000.0</td>\n",
       "      <td>1420000.0</td>\n",
       "      <td>48600.0</td>\n",
       "      <td>8.390000e+12</td>\n",
       "      <td>13100000.0</td>\n",
       "      <td>453000.0</td>\n",
       "      <td>1.130000e+09</td>\n",
       "      <td>Angry</td>\n",
       "    </tr>\n",
       "    <tr>\n",
       "      <th>1</th>\n",
       "      <td>45.4</td>\n",
       "      <td>0.317</td>\n",
       "      <td>0.000066</td>\n",
       "      <td>714.0</td>\n",
       "      <td>0.000266</td>\n",
       "      <td>0.01030</td>\n",
       "      <td>0.000000e+00</td>\n",
       "      <td>54.9</td>\n",
       "      <td>858.0</td>\n",
       "      <td>1420.0</td>\n",
       "      <td>...</td>\n",
       "      <td>141.0</td>\n",
       "      <td>14.70</td>\n",
       "      <td>27800000.0</td>\n",
       "      <td>2520000.0</td>\n",
       "      <td>228000.0</td>\n",
       "      <td>8.200000e+12</td>\n",
       "      <td>23000000.0</td>\n",
       "      <td>2090000.0</td>\n",
       "      <td>5.300000e+09</td>\n",
       "      <td>Angry</td>\n",
       "    </tr>\n",
       "    <tr>\n",
       "      <th>2</th>\n",
       "      <td>41.6</td>\n",
       "      <td>0.283</td>\n",
       "      <td>0.000007</td>\n",
       "      <td>530.0</td>\n",
       "      <td>0.000084</td>\n",
       "      <td>0.00337</td>\n",
       "      <td>1.130000e-16</td>\n",
       "      <td>62.6</td>\n",
       "      <td>978.0</td>\n",
       "      <td>1300.0</td>\n",
       "      <td>...</td>\n",
       "      <td>154.0</td>\n",
       "      <td>4.60</td>\n",
       "      <td>30500000.0</td>\n",
       "      <td>1640000.0</td>\n",
       "      <td>71500.0</td>\n",
       "      <td>9.050000e+12</td>\n",
       "      <td>15000000.0</td>\n",
       "      <td>656000.0</td>\n",
       "      <td>1.670000e+09</td>\n",
       "      <td>Angry</td>\n",
       "    </tr>\n",
       "    <tr>\n",
       "      <th>3</th>\n",
       "      <td>50.7</td>\n",
       "      <td>0.340</td>\n",
       "      <td>0.000084</td>\n",
       "      <td>766.0</td>\n",
       "      <td>0.000314</td>\n",
       "      <td>0.01240</td>\n",
       "      <td>0.000000e+00</td>\n",
       "      <td>60.6</td>\n",
       "      <td>946.0</td>\n",
       "      <td>1590.0</td>\n",
       "      <td>...</td>\n",
       "      <td>142.0</td>\n",
       "      <td>17.90</td>\n",
       "      <td>28100000.0</td>\n",
       "      <td>2860000.0</td>\n",
       "      <td>279000.0</td>\n",
       "      <td>8.390000e+12</td>\n",
       "      <td>26100000.0</td>\n",
       "      <td>2550000.0</td>\n",
       "      <td>6.530000e+09</td>\n",
       "      <td>Angry</td>\n",
       "    </tr>\n",
       "    <tr>\n",
       "      <th>4</th>\n",
       "      <td>38.1</td>\n",
       "      <td>0.268</td>\n",
       "      <td>0.000133</td>\n",
       "      <td>694.0</td>\n",
       "      <td>0.000377</td>\n",
       "      <td>0.01490</td>\n",
       "      <td>2.270000e-16</td>\n",
       "      <td>56.4</td>\n",
       "      <td>882.0</td>\n",
       "      <td>1190.0</td>\n",
       "      <td>...</td>\n",
       "      <td>147.0</td>\n",
       "      <td>11.60</td>\n",
       "      <td>29400000.0</td>\n",
       "      <td>2310000.0</td>\n",
       "      <td>182000.0</td>\n",
       "      <td>8.830000e+12</td>\n",
       "      <td>20900000.0</td>\n",
       "      <td>1660000.0</td>\n",
       "      <td>4.280000e+09</td>\n",
       "      <td>Angry</td>\n",
       "    </tr>\n",
       "  </tbody>\n",
       "</table>\n",
       "<p>5 rows × 62 columns</p>\n",
       "</div>"
      ],
      "text/plain": [
       "   Spectral Centroid  Spectral Rolloff Point   Spectral Flux   Compactness  \\\n",
       "0               50.2                    0.316        0.000124        753.0   \n",
       "1               45.4                    0.317        0.000066        714.0   \n",
       "2               41.6                    0.283        0.000007        530.0   \n",
       "3               50.7                    0.340        0.000084        766.0   \n",
       "4               38.1                    0.268        0.000133        694.0   \n",
       "\n",
       "   Spectral Variability   Root Mean Square   Fraction Of Low Energy Windows   \\\n",
       "0               0.000338            0.01280                     0.000000e+00   \n",
       "1               0.000266            0.01030                     0.000000e+00   \n",
       "2               0.000084            0.00337                     1.130000e-16   \n",
       "3               0.000314            0.01240                     0.000000e+00   \n",
       "4               0.000377            0.01490                     2.270000e-16   \n",
       "\n",
       "   Zero Crossings   Strongest Frequency Via Zero Crossings   \\\n",
       "0             70.5                                   1100.0   \n",
       "1             54.9                                    858.0   \n",
       "2             62.6                                    978.0   \n",
       "3             60.6                                    946.0   \n",
       "4             56.4                                    882.0   \n",
       "\n",
       "   Strongest Frequency Via Spectral Centroid    ...     \\\n",
       "0                                      1570.0   ...      \n",
       "1                                      1420.0   ...      \n",
       "2                                      1300.0   ...      \n",
       "3                                      1590.0   ...      \n",
       "4                                      1190.0   ...      \n",
       "\n",
       "   Area Method of Moments of MFCCs 2  Area Method of Moments of MFCCs 3  \\\n",
       "0                              146.0                               3.15   \n",
       "1                              141.0                              14.70   \n",
       "2                              154.0                               4.60   \n",
       "3                              142.0                              17.90   \n",
       "4                              147.0                              11.60   \n",
       "\n",
       "   Area Method of Moments of MFCCs 4  Area Method of Moments of MFCCs 5  \\\n",
       "0                         28600000.0                          1420000.0   \n",
       "1                         27800000.0                          2520000.0   \n",
       "2                         30500000.0                          1640000.0   \n",
       "3                         28100000.0                          2860000.0   \n",
       "4                         29400000.0                          2310000.0   \n",
       "\n",
       "   Area Method of Moments of MFCCs 6  Area Method of Moments of MFCCs 7  \\\n",
       "0                            48600.0                       8.390000e+12   \n",
       "1                           228000.0                       8.200000e+12   \n",
       "2                            71500.0                       9.050000e+12   \n",
       "3                           279000.0                       8.390000e+12   \n",
       "4                           182000.0                       8.830000e+12   \n",
       "\n",
       "   Area Method of Moments of MFCCs 8  Area Method of Moments of MFCCs 9  \\\n",
       "0                         13100000.0                           453000.0   \n",
       "1                         23000000.0                          2090000.0   \n",
       "2                         15000000.0                           656000.0   \n",
       "3                         26100000.0                          2550000.0   \n",
       "4                         20900000.0                          1660000.0   \n",
       "\n",
       "   Area Method of Moments of MFCCs 10  Emotion  \n",
       "0                        1.130000e+09    Angry  \n",
       "1                        5.300000e+09    Angry  \n",
       "2                        1.670000e+09    Angry  \n",
       "3                        6.530000e+09    Angry  \n",
       "4                        4.280000e+09    Angry  \n",
       "\n",
       "[5 rows x 62 columns]"
      ]
     },
     "execution_count": 2,
     "metadata": {},
     "output_type": "execute_result"
    }
   ],
   "source": [
    "dataset = pd.read_csv('dataset.csv')\n",
    "dataset = dataset.iloc[:,1:]\n",
    "dataset.head()"
   ]
  },
  {
   "cell_type": "code",
   "execution_count": 3,
   "metadata": {
    "collapsed": true
   },
   "outputs": [],
   "source": [
    "X = dataset.iloc[:, :-1].values\n",
    "y = dataset.iloc[:, 61].values"
   ]
  },
  {
   "cell_type": "code",
   "execution_count": 4,
   "metadata": {},
   "outputs": [
    {
     "data": {
      "text/plain": [
       "array([[5.02e+01, 3.16e-01, 1.24e-04, ..., 1.31e+07, 4.53e+05, 1.13e+09],\n",
       "       [4.54e+01, 3.17e-01, 6.58e-05, ..., 2.30e+07, 2.09e+06, 5.30e+09],\n",
       "       [4.16e+01, 2.83e-01, 6.59e-06, ..., 1.50e+07, 6.56e+05, 1.67e+09],\n",
       "       ...,\n",
       "       [5.38e+01, 3.16e-01, 1.41e-04, ..., 1.95e+08, 1.63e+07, 2.49e+11],\n",
       "       [4.88e+01, 3.36e-01, 3.44e-04, ..., 1.72e+08, 1.40e+07, 2.14e+11],\n",
       "       [5.70e+01, 3.35e-01, 2.63e-04, ..., 1.81e+08, 1.46e+07, 2.26e+11]])"
      ]
     },
     "execution_count": 4,
     "metadata": {},
     "output_type": "execute_result"
    }
   ],
   "source": [
    "X"
   ]
  },
  {
   "cell_type": "code",
   "execution_count": 5,
   "metadata": {},
   "outputs": [
    {
     "data": {
      "text/plain": [
       "array(['Angry', 'Angry', 'Angry', ..., 'Surprised', 'Surprised',\n",
       "       'Surprised'], dtype=object)"
      ]
     },
     "execution_count": 5,
     "metadata": {},
     "output_type": "execute_result"
    }
   ],
   "source": [
    "y"
   ]
  },
  {
   "cell_type": "code",
   "execution_count": 6,
   "metadata": {
    "collapsed": true
   },
   "outputs": [],
   "source": [
    "from sklearn.preprocessing import LabelEncoder\n",
    "labelencoder = LabelEncoder()\n",
    "y = labelencoder.fit_transform(y)"
   ]
  },
  {
   "cell_type": "code",
   "execution_count": 7,
   "metadata": {},
   "outputs": [
    {
     "data": {
      "text/plain": [
       "array([0, 0, 0, ..., 7, 7, 7], dtype=int64)"
      ]
     },
     "execution_count": 7,
     "metadata": {},
     "output_type": "execute_result"
    }
   ],
   "source": [
    "y"
   ]
  },
  {
   "cell_type": "code",
   "execution_count": 8,
   "metadata": {},
   "outputs": [
    {
     "data": {
      "text/plain": [
       "array([[ 0.78704605,  0.55582953, -0.21773949, ..., -1.29635735,\n",
       "        -1.07181973, -0.90654751],\n",
       "       [ 0.09843057,  0.58356995, -0.28200734, ..., -1.09849254,\n",
       "        -0.72649185, -0.83994549],\n",
       "       [-0.44672335, -0.35960454, -0.34739049, ..., -1.2583833 ,\n",
       "        -1.02899654, -0.89792279],\n",
       "       ...,\n",
       "       [ 1.30350766,  0.55582953, -0.1989671 , ...,  2.33915878,\n",
       "         2.27113136,  3.05235955],\n",
       "       [ 0.58619987,  1.11063805,  0.02519739, ...,  1.87947284,\n",
       "         1.78594252,  2.4933498 ],\n",
       "       [ 1.76258464,  1.08289762, -0.06424756, ...,  2.05934995,\n",
       "         1.91251352,  2.68501029]])"
      ]
     },
     "execution_count": 8,
     "metadata": {},
     "output_type": "execute_result"
    }
   ],
   "source": [
    "from sklearn.preprocessing import StandardScaler\n",
    "sc_X = StandardScaler()\n",
    "X = sc_X.fit_transform(X)\n",
    "X"
   ]
  },
  {
   "cell_type": "code",
   "execution_count": 9,
   "metadata": {
    "collapsed": true
   },
   "outputs": [],
   "source": [
    "from sklearn.decomposition import PCA\n",
    "pca = PCA(n_components = None)\n",
    "pca.fit_transform(X)\n",
    "explained_variance = pca.explained_variance_ratio_"
   ]
  },
  {
   "cell_type": "code",
   "execution_count": 10,
   "metadata": {},
   "outputs": [
    {
     "data": {
      "text/plain": [
       "array([2.72541600e-01, 2.16087071e-01, 1.05346342e-01, 7.26782082e-02,\n",
       "       4.24447906e-02, 3.70149068e-02, 2.93230869e-02, 2.58861959e-02,\n",
       "       2.08149182e-02, 1.66750265e-02, 1.56020288e-02, 1.18063815e-02,\n",
       "       1.13426712e-02, 1.03143835e-02, 9.57404607e-03, 8.80839910e-03,\n",
       "       8.52028094e-03, 8.06838488e-03, 7.04466038e-03, 6.84341970e-03,\n",
       "       6.05970631e-03, 5.62997482e-03, 5.36495072e-03, 5.04713763e-03,\n",
       "       4.73730279e-03, 4.61819385e-03, 4.29672807e-03, 3.63204847e-03,\n",
       "       3.20612136e-03, 2.92343020e-03, 2.87758784e-03, 2.44835367e-03,\n",
       "       2.27775246e-03, 2.11723958e-03, 1.62044170e-03, 1.51353384e-03,\n",
       "       1.13648498e-03, 8.03662458e-04, 6.64120006e-04, 6.34542311e-04,\n",
       "       3.93328351e-04, 3.80131169e-04, 2.47705798e-04, 1.99829131e-04,\n",
       "       1.70478168e-04, 1.47968825e-04, 3.51210954e-05, 3.25746985e-05,\n",
       "       3.11158760e-05, 8.78104245e-06, 3.53886450e-06, 1.45901375e-06,\n",
       "       7.41431918e-07, 6.55960589e-07, 2.16240576e-07, 8.22352472e-08,\n",
       "       5.98901884e-08, 4.15338908e-08, 3.54160641e-08, 2.07738525e-08,\n",
       "       1.41652787e-33])"
      ]
     },
     "execution_count": 10,
     "metadata": {},
     "output_type": "execute_result"
    }
   ],
   "source": [
    "explained_variance"
   ]
  },
  {
   "cell_type": "code",
   "execution_count": 11,
   "metadata": {},
   "outputs": [
    {
     "data": {
      "text/plain": [
       "61"
      ]
     },
     "execution_count": 11,
     "metadata": {},
     "output_type": "execute_result"
    }
   ],
   "source": [
    "X[0].size"
   ]
  },
  {
   "cell_type": "code",
   "execution_count": 12,
   "metadata": {
    "collapsed": true
   },
   "outputs": [],
   "source": [
    "from sklearn.feature_selection import RFE\n",
    "from sklearn.linear_model import LogisticRegression"
   ]
  },
  {
   "cell_type": "code",
   "execution_count": 13,
   "metadata": {
    "collapsed": true
   },
   "outputs": [],
   "source": [
    "model = LogisticRegression() \n",
    "rfe = RFE(model, 3)"
   ]
  },
  {
   "cell_type": "code",
   "execution_count": 14,
   "metadata": {},
   "outputs": [
    {
     "data": {
      "text/plain": [
       "array([False, False, False, False, False, False, False, False, False,\n",
       "       False, False, False, False, False, False, False, False, False,\n",
       "       False, False, False, False, False, False, False, False, False,\n",
       "       False, False, False, False, False, False, False,  True, False,\n",
       "       False, False, False, False, False, False, False, False, False,\n",
       "       False, False, False, False, False, False, False, False, False,\n",
       "        True, False, False,  True, False, False, False])"
      ]
     },
     "execution_count": 14,
     "metadata": {},
     "output_type": "execute_result"
    }
   ],
   "source": [
    "fit = rfe.fit(X, y)\n",
    "fit.support_"
   ]
  },
  {
   "cell_type": "code",
   "execution_count": 15,
   "metadata": {},
   "outputs": [
    {
     "data": {
      "text/plain": [
       "'Method of Moments 1'"
      ]
     },
     "execution_count": 15,
     "metadata": {},
     "output_type": "execute_result"
    }
   ],
   "source": [
    "dataset.columns[34]"
   ]
  },
  {
   "cell_type": "code",
   "execution_count": 16,
   "metadata": {},
   "outputs": [
    {
     "data": {
      "text/plain": [
       "array([47, 21, 10, 33, 12, 18, 55, 37, 19, 20, 44, 29, 35, 36, 17, 50, 39,\n",
       "       49, 38, 58, 34, 40, 45, 46, 41, 22, 32, 27, 56, 54, 53, 43, 52, 59,\n",
       "        1, 24, 48, 25, 23, 57, 51,  8, 16, 26, 42, 31,  7,  6, 30, 14, 13,\n",
       "       28, 11,  4,  1,  9,  3,  1, 15,  5,  2])"
      ]
     },
     "execution_count": 16,
     "metadata": {},
     "output_type": "execute_result"
    }
   ],
   "source": [
    "fit.ranking_"
   ]
  },
  {
   "cell_type": "code",
   "execution_count": 17,
   "metadata": {},
   "outputs": [
    {
     "data": {
      "text/plain": [
       "0.9724907956071576"
      ]
     },
     "execution_count": 17,
     "metadata": {},
     "output_type": "execute_result"
    }
   ],
   "source": [
    "c = 0\n",
    "sum = 0\n",
    "for p in explained_variance:\n",
    "    sum = sum + p\n",
    "    c = c + 1\n",
    "    if c==27:\n",
    "        break\n",
    "sum"
   ]
  },
  {
   "cell_type": "code",
   "execution_count": 222,
   "metadata": {},
   "outputs": [
    {
     "data": {
      "text/plain": [
       "array([[-8.91499020e-01, -2.40065870e+00, -3.50307719e+00, ...,\n",
       "        -9.61641372e-01, -1.37509793e-01, -1.97006299e-01],\n",
       "       [ 3.10323378e-01, -1.62402782e+00, -1.68416868e+00, ...,\n",
       "        -4.43885886e-01, -4.21741249e-01, -4.52886327e-01],\n",
       "       [ 9.19893168e-01, -4.00506522e+00, -6.75145344e-01, ...,\n",
       "        -6.31036827e-01,  2.07523346e-01,  1.09508137e+00],\n",
       "       ...,\n",
       "       [-1.62914808e+00,  9.77153027e+00,  5.34433139e-01, ...,\n",
       "        -3.32461451e-01, -2.83266609e-01,  1.29199384e-01],\n",
       "       [-4.09179264e+00,  9.01184415e+00,  2.94260890e+00, ...,\n",
       "        -1.55013997e+00, -2.54901815e-01,  2.68046035e-01],\n",
       "       [ 3.54568031e+00,  4.37671102e+00, -3.08273873e+00, ...,\n",
       "        -3.38559616e-01, -3.79309409e-03,  3.76839297e-01]])"
      ]
     },
     "execution_count": 222,
     "metadata": {},
     "output_type": "execute_result"
    }
   ],
   "source": [
    "pca = PCA(n_components = 27)\n",
    "X1 = pca.fit_transform(X)\n",
    "X1"
   ]
  },
  {
   "cell_type": "code",
   "execution_count": 223,
   "metadata": {
    "collapsed": true
   },
   "outputs": [],
   "source": [
    "from sklearn.cross_validation import train_test_split\n",
    "X_train, X_test, y_train, y_test = train_test_split(X1, y, test_size = 0.3, random_state = 42)"
   ]
  },
  {
   "cell_type": "code",
   "execution_count": 224,
   "metadata": {},
   "outputs": [
    {
     "data": {
      "text/plain": [
       "array([[ 6.41137559,  0.63656029, -1.09668904, ..., -0.13497845,\n",
       "        -0.1684313 , -0.07134832],\n",
       "       [-1.20757406, -4.2928727 ,  1.85612169, ...,  0.27948102,\n",
       "         0.35054221,  0.25684998],\n",
       "       [ 0.86994682, -3.15562034, -2.47986455, ...,  0.44644859,\n",
       "         0.60681289,  0.44593735],\n",
       "       ...,\n",
       "       [-0.57596816,  0.23776472,  0.70732716, ..., -0.01988195,\n",
       "        -0.23936467,  0.33164037],\n",
       "       [-0.9236599 , -2.17041888, -1.87999445, ...,  0.21232243,\n",
       "         0.04560447,  0.03863583],\n",
       "       [-7.07773552,  0.76955015, -2.23660675, ..., -0.3690979 ,\n",
       "        -0.28602462, -0.6081942 ]])"
      ]
     },
     "execution_count": 224,
     "metadata": {},
     "output_type": "execute_result"
    }
   ],
   "source": [
    "X_train"
   ]
  },
  {
   "cell_type": "code",
   "execution_count": 225,
   "metadata": {},
   "outputs": [
    {
     "data": {
      "text/plain": [
       "array([0, 6, 2, ..., 7, 4, 6], dtype=int64)"
      ]
     },
     "execution_count": 225,
     "metadata": {},
     "output_type": "execute_result"
    }
   ],
   "source": [
    "y_train"
   ]
  },
  {
   "cell_type": "code",
   "execution_count": 226,
   "metadata": {},
   "outputs": [
    {
     "data": {
      "text/plain": [
       "432"
      ]
     },
     "execution_count": 226,
     "metadata": {},
     "output_type": "execute_result"
    }
   ],
   "source": [
    "y_test.size"
   ]
  },
  {
   "cell_type": "code",
   "execution_count": 227,
   "metadata": {
    "collapsed": true
   },
   "outputs": [],
   "source": [
    "from sklearn import linear_model"
   ]
  },
  {
   "cell_type": "code",
   "execution_count": 228,
   "metadata": {},
   "outputs": [
    {
     "data": {
      "text/plain": [
       "array([0, 3, 2, 0, 3, 5, 7, 7, 6, 1, 3, 0, 6, 4, 0, 7, 3, 4, 1, 2, 6, 6,\n",
       "       6, 2, 4, 3, 2, 2, 0, 2, 4, 6, 6, 3, 2, 4, 0, 1, 6, 0, 1, 6, 2, 1,\n",
       "       4, 7, 0, 1, 7, 1, 6, 3, 7, 6, 3, 4, 2, 6, 5, 0, 2, 7, 7, 1, 7, 1,\n",
       "       7, 0, 4, 6, 4, 1, 4, 0, 1, 1, 6, 1, 3, 3, 2, 0, 2, 6, 7, 6, 1, 0,\n",
       "       0, 2, 1, 6, 4, 2, 2, 2, 2, 6, 5, 0, 3, 6, 3, 1, 4, 3, 7, 2, 6, 3,\n",
       "       1, 4, 2, 2, 4, 4, 6, 3, 4, 5, 1, 1, 4, 0, 5, 2, 6, 2, 0, 3, 4, 5,\n",
       "       3, 4, 1, 2, 6, 1, 7, 7, 3, 3, 3, 1, 0, 3, 1, 3, 4, 4, 0, 4, 6, 3,\n",
       "       4, 2, 4, 1, 2, 1, 5, 1, 3, 2, 6, 0, 3, 0, 1, 3, 3, 4, 5, 3, 4, 7,\n",
       "       0, 0, 7, 4, 4, 1, 4, 2, 4, 3, 6, 1, 2, 6, 2, 0, 3, 5, 2, 2, 7, 6,\n",
       "       6, 7, 2, 6, 4, 7, 6, 7, 3, 7, 5, 5, 2, 4, 7, 7, 5, 2, 1, 6, 1, 0,\n",
       "       4, 4, 1, 4, 0, 0, 2, 4, 7, 4, 6, 1, 5, 1, 4, 2, 7, 2, 7, 3, 3, 3,\n",
       "       1, 6, 6, 1, 7, 0, 6, 0, 7, 1, 6, 1, 6, 0, 6, 3, 4, 1, 5, 2, 6, 4,\n",
       "       6, 1, 7, 4, 7, 1, 2, 1, 5, 6, 3, 2, 4, 1, 6, 3, 7, 4, 0, 7, 1, 7,\n",
       "       2, 7, 6, 3, 1, 0, 4, 7, 0, 2, 1, 7, 4, 4, 2, 7, 6, 0, 1, 3, 7, 3,\n",
       "       4, 1, 0, 7, 1, 3, 1, 2, 0, 0, 6, 6, 1, 6, 6, 7, 2, 0, 6, 6, 2, 6,\n",
       "       4, 6, 6, 1, 2, 7, 2, 3, 1, 6, 2, 3, 6, 2, 7, 5, 2, 4, 0, 4, 4, 1,\n",
       "       4, 0, 5, 0, 2, 3, 4, 6, 1, 5, 6, 7, 1, 7, 7, 0, 6, 2, 3, 5, 1, 0,\n",
       "       3, 3, 6, 1, 1, 0, 6, 3, 5, 7, 5, 3, 1, 3, 6, 7, 2, 2, 0, 0, 3, 1,\n",
       "       1, 4, 1, 2, 5, 2, 0, 3, 1, 1, 3, 6, 5, 0, 3, 5, 2, 3, 3, 5, 4, 0,\n",
       "       4, 6, 2, 2, 2, 6, 3, 2, 3, 3, 6, 6, 1, 3], dtype=int64)"
      ]
     },
     "execution_count": 228,
     "metadata": {},
     "output_type": "execute_result"
    }
   ],
   "source": [
    "mul_lr = linear_model.LogisticRegression(multi_class='multinomial', solver='newton-cg').fit(X_train, y_train)\n",
    "y_pred = mul_lr.predict(X_test)\n",
    "y_pred"
   ]
  },
  {
   "cell_type": "code",
   "execution_count": 229,
   "metadata": {
    "collapsed": true
   },
   "outputs": [],
   "source": [
    "from sklearn import metrics\n",
    "accuracy = metrics.accuracy_score(y_test, y_pred)*100"
   ]
  },
  {
   "cell_type": "code",
   "execution_count": 230,
   "metadata": {},
   "outputs": [
    {
     "data": {
      "text/plain": [
       "88.42592592592592"
      ]
     },
     "execution_count": 230,
     "metadata": {},
     "output_type": "execute_result"
    }
   ],
   "source": [
    "accuracy"
   ]
  },
  {
   "cell_type": "code",
   "execution_count": null,
   "metadata": {
    "collapsed": true
   },
   "outputs": [],
   "source": []
  },
  {
   "cell_type": "code",
   "execution_count": null,
   "metadata": {
    "collapsed": true
   },
   "outputs": [],
   "source": []
  }
 ],
 "metadata": {
  "kernelspec": {
   "display_name": "Python 3",
   "language": "python",
   "name": "python3"
  },
  "language_info": {
   "codemirror_mode": {
    "name": "ipython",
    "version": 3
   },
   "file_extension": ".py",
   "mimetype": "text/x-python",
   "name": "python",
   "nbconvert_exporter": "python",
   "pygments_lexer": "ipython3",
   "version": "3.6.3"
  }
 },
 "nbformat": 4,
 "nbformat_minor": 2
}
