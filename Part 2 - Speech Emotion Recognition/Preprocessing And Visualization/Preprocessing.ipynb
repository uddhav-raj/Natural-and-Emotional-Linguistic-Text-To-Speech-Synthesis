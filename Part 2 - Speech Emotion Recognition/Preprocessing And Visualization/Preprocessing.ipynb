{
 "cells": [
  {
   "cell_type": "code",
   "execution_count": 1,
   "metadata": {
    "collapsed": true
   },
   "outputs": [],
   "source": [
    "import numpy as np\n",
    "import matplotlib.pyplot as plt\n",
    "import pandas as pd"
   ]
  },
  {
   "cell_type": "code",
   "execution_count": 12,
   "metadata": {},
   "outputs": [
    {
     "data": {
      "text/html": [
       "<div>\n",
       "<style>\n",
       "    .dataframe thead tr:only-child th {\n",
       "        text-align: right;\n",
       "    }\n",
       "\n",
       "    .dataframe thead th {\n",
       "        text-align: left;\n",
       "    }\n",
       "\n",
       "    .dataframe tbody tr th {\n",
       "        vertical-align: top;\n",
       "    }\n",
       "</style>\n",
       "<table border=\"1\" class=\"dataframe\">\n",
       "  <thead>\n",
       "    <tr style=\"text-align: right;\">\n",
       "      <th></th>\n",
       "      <th>Spectral Centroid</th>\n",
       "      <th>Spectral Rolloff Point</th>\n",
       "      <th>Spectral Flux</th>\n",
       "      <th>Compactness</th>\n",
       "      <th>Spectral Variability</th>\n",
       "      <th>Root Mean Square</th>\n",
       "      <th>Fraction Of Low Energy Windows</th>\n",
       "      <th>Zero Crossings</th>\n",
       "      <th>Strongest Frequency Via Zero Crossings</th>\n",
       "      <th>Strongest Frequency Via Spectral Centroid</th>\n",
       "      <th>...</th>\n",
       "      <th>Area Method of Moments of MFCCs 2</th>\n",
       "      <th>Area Method of Moments of MFCCs 3</th>\n",
       "      <th>Area Method of Moments of MFCCs 4</th>\n",
       "      <th>Area Method of Moments of MFCCs 5</th>\n",
       "      <th>Area Method of Moments of MFCCs 6</th>\n",
       "      <th>Area Method of Moments of MFCCs 7</th>\n",
       "      <th>Area Method of Moments of MFCCs 8</th>\n",
       "      <th>Area Method of Moments of MFCCs 9</th>\n",
       "      <th>Area Method of Moments of MFCCs 10</th>\n",
       "      <th>Emotion</th>\n",
       "    </tr>\n",
       "  </thead>\n",
       "  <tbody>\n",
       "    <tr>\n",
       "      <th>0</th>\n",
       "      <td>50.2</td>\n",
       "      <td>0.316</td>\n",
       "      <td>0.000124</td>\n",
       "      <td>753.0</td>\n",
       "      <td>0.000338</td>\n",
       "      <td>0.01280</td>\n",
       "      <td>0.000000e+00</td>\n",
       "      <td>70.5</td>\n",
       "      <td>1100.0</td>\n",
       "      <td>1570.0</td>\n",
       "      <td>...</td>\n",
       "      <td>146.0</td>\n",
       "      <td>3.15</td>\n",
       "      <td>28600000.0</td>\n",
       "      <td>1420000.0</td>\n",
       "      <td>48600.0</td>\n",
       "      <td>8.390000e+12</td>\n",
       "      <td>13100000.0</td>\n",
       "      <td>453000.0</td>\n",
       "      <td>1.130000e+09</td>\n",
       "      <td>Angry</td>\n",
       "    </tr>\n",
       "    <tr>\n",
       "      <th>1</th>\n",
       "      <td>45.4</td>\n",
       "      <td>0.317</td>\n",
       "      <td>0.000066</td>\n",
       "      <td>714.0</td>\n",
       "      <td>0.000266</td>\n",
       "      <td>0.01030</td>\n",
       "      <td>0.000000e+00</td>\n",
       "      <td>54.9</td>\n",
       "      <td>858.0</td>\n",
       "      <td>1420.0</td>\n",
       "      <td>...</td>\n",
       "      <td>141.0</td>\n",
       "      <td>14.70</td>\n",
       "      <td>27800000.0</td>\n",
       "      <td>2520000.0</td>\n",
       "      <td>228000.0</td>\n",
       "      <td>8.200000e+12</td>\n",
       "      <td>23000000.0</td>\n",
       "      <td>2090000.0</td>\n",
       "      <td>5.300000e+09</td>\n",
       "      <td>Angry</td>\n",
       "    </tr>\n",
       "    <tr>\n",
       "      <th>2</th>\n",
       "      <td>41.6</td>\n",
       "      <td>0.283</td>\n",
       "      <td>0.000007</td>\n",
       "      <td>530.0</td>\n",
       "      <td>0.000084</td>\n",
       "      <td>0.00337</td>\n",
       "      <td>1.130000e-16</td>\n",
       "      <td>62.6</td>\n",
       "      <td>978.0</td>\n",
       "      <td>1300.0</td>\n",
       "      <td>...</td>\n",
       "      <td>154.0</td>\n",
       "      <td>4.60</td>\n",
       "      <td>30500000.0</td>\n",
       "      <td>1640000.0</td>\n",
       "      <td>71500.0</td>\n",
       "      <td>9.050000e+12</td>\n",
       "      <td>15000000.0</td>\n",
       "      <td>656000.0</td>\n",
       "      <td>1.670000e+09</td>\n",
       "      <td>Angry</td>\n",
       "    </tr>\n",
       "    <tr>\n",
       "      <th>3</th>\n",
       "      <td>50.7</td>\n",
       "      <td>0.340</td>\n",
       "      <td>0.000084</td>\n",
       "      <td>766.0</td>\n",
       "      <td>0.000314</td>\n",
       "      <td>0.01240</td>\n",
       "      <td>0.000000e+00</td>\n",
       "      <td>60.6</td>\n",
       "      <td>946.0</td>\n",
       "      <td>1590.0</td>\n",
       "      <td>...</td>\n",
       "      <td>142.0</td>\n",
       "      <td>17.90</td>\n",
       "      <td>28100000.0</td>\n",
       "      <td>2860000.0</td>\n",
       "      <td>279000.0</td>\n",
       "      <td>8.390000e+12</td>\n",
       "      <td>26100000.0</td>\n",
       "      <td>2550000.0</td>\n",
       "      <td>6.530000e+09</td>\n",
       "      <td>Angry</td>\n",
       "    </tr>\n",
       "    <tr>\n",
       "      <th>4</th>\n",
       "      <td>38.1</td>\n",
       "      <td>0.268</td>\n",
       "      <td>0.000133</td>\n",
       "      <td>694.0</td>\n",
       "      <td>0.000377</td>\n",
       "      <td>0.01490</td>\n",
       "      <td>2.270000e-16</td>\n",
       "      <td>56.4</td>\n",
       "      <td>882.0</td>\n",
       "      <td>1190.0</td>\n",
       "      <td>...</td>\n",
       "      <td>147.0</td>\n",
       "      <td>11.60</td>\n",
       "      <td>29400000.0</td>\n",
       "      <td>2310000.0</td>\n",
       "      <td>182000.0</td>\n",
       "      <td>8.830000e+12</td>\n",
       "      <td>20900000.0</td>\n",
       "      <td>1660000.0</td>\n",
       "      <td>4.280000e+09</td>\n",
       "      <td>Angry</td>\n",
       "    </tr>\n",
       "  </tbody>\n",
       "</table>\n",
       "<p>5 rows × 62 columns</p>\n",
       "</div>"
      ],
      "text/plain": [
       "   Spectral Centroid  Spectral Rolloff Point   Spectral Flux   Compactness  \\\n",
       "0               50.2                    0.316        0.000124        753.0   \n",
       "1               45.4                    0.317        0.000066        714.0   \n",
       "2               41.6                    0.283        0.000007        530.0   \n",
       "3               50.7                    0.340        0.000084        766.0   \n",
       "4               38.1                    0.268        0.000133        694.0   \n",
       "\n",
       "   Spectral Variability   Root Mean Square   Fraction Of Low Energy Windows   \\\n",
       "0               0.000338            0.01280                     0.000000e+00   \n",
       "1               0.000266            0.01030                     0.000000e+00   \n",
       "2               0.000084            0.00337                     1.130000e-16   \n",
       "3               0.000314            0.01240                     0.000000e+00   \n",
       "4               0.000377            0.01490                     2.270000e-16   \n",
       "\n",
       "   Zero Crossings   Strongest Frequency Via Zero Crossings   \\\n",
       "0             70.5                                   1100.0   \n",
       "1             54.9                                    858.0   \n",
       "2             62.6                                    978.0   \n",
       "3             60.6                                    946.0   \n",
       "4             56.4                                    882.0   \n",
       "\n",
       "   Strongest Frequency Via Spectral Centroid    ...     \\\n",
       "0                                      1570.0   ...      \n",
       "1                                      1420.0   ...      \n",
       "2                                      1300.0   ...      \n",
       "3                                      1590.0   ...      \n",
       "4                                      1190.0   ...      \n",
       "\n",
       "   Area Method of Moments of MFCCs 2  Area Method of Moments of MFCCs 3  \\\n",
       "0                              146.0                               3.15   \n",
       "1                              141.0                              14.70   \n",
       "2                              154.0                               4.60   \n",
       "3                              142.0                              17.90   \n",
       "4                              147.0                              11.60   \n",
       "\n",
       "   Area Method of Moments of MFCCs 4  Area Method of Moments of MFCCs 5  \\\n",
       "0                         28600000.0                          1420000.0   \n",
       "1                         27800000.0                          2520000.0   \n",
       "2                         30500000.0                          1640000.0   \n",
       "3                         28100000.0                          2860000.0   \n",
       "4                         29400000.0                          2310000.0   \n",
       "\n",
       "   Area Method of Moments of MFCCs 6  Area Method of Moments of MFCCs 7  \\\n",
       "0                            48600.0                       8.390000e+12   \n",
       "1                           228000.0                       8.200000e+12   \n",
       "2                            71500.0                       9.050000e+12   \n",
       "3                           279000.0                       8.390000e+12   \n",
       "4                           182000.0                       8.830000e+12   \n",
       "\n",
       "   Area Method of Moments of MFCCs 8  Area Method of Moments of MFCCs 9  \\\n",
       "0                         13100000.0                           453000.0   \n",
       "1                         23000000.0                          2090000.0   \n",
       "2                         15000000.0                           656000.0   \n",
       "3                         26100000.0                          2550000.0   \n",
       "4                         20900000.0                          1660000.0   \n",
       "\n",
       "   Area Method of Moments of MFCCs 10  Emotion  \n",
       "0                        1.130000e+09    Angry  \n",
       "1                        5.300000e+09    Angry  \n",
       "2                        1.670000e+09    Angry  \n",
       "3                        6.530000e+09    Angry  \n",
       "4                        4.280000e+09    Angry  \n",
       "\n",
       "[5 rows x 62 columns]"
      ]
     },
     "execution_count": 12,
     "metadata": {},
     "output_type": "execute_result"
    }
   ],
   "source": [
    "dataset = pd.read_csv('dataset.csv')\n",
    "dataset = dataset.iloc[:,1:]\n",
    "dataset.head()"
   ]
  },
  {
   "cell_type": "code",
   "execution_count": 13,
   "metadata": {
    "collapsed": true
   },
   "outputs": [],
   "source": [
    "X = dataset.iloc[:, :-1].values\n",
    "y = dataset.iloc[:, 61].values"
   ]
  },
  {
   "cell_type": "code",
   "execution_count": 22,
   "metadata": {},
   "outputs": [
    {
     "data": {
      "text/plain": [
       "array([[5.02e+01, 3.16e-01, 1.24e-04, ..., 1.31e+07, 4.53e+05, 1.13e+09],\n",
       "       [4.54e+01, 3.17e-01, 6.58e-05, ..., 2.30e+07, 2.09e+06, 5.30e+09],\n",
       "       [4.16e+01, 2.83e-01, 6.59e-06, ..., 1.50e+07, 6.56e+05, 1.67e+09],\n",
       "       ...,\n",
       "       [5.38e+01, 3.16e-01, 1.41e-04, ..., 1.95e+08, 1.63e+07, 2.49e+11],\n",
       "       [4.88e+01, 3.36e-01, 3.44e-04, ..., 1.72e+08, 1.40e+07, 2.14e+11],\n",
       "       [5.70e+01, 3.35e-01, 2.63e-04, ..., 1.81e+08, 1.46e+07, 2.26e+11]])"
      ]
     },
     "execution_count": 22,
     "metadata": {},
     "output_type": "execute_result"
    }
   ],
   "source": [
    "X"
   ]
  },
  {
   "cell_type": "code",
   "execution_count": 15,
   "metadata": {},
   "outputs": [
    {
     "data": {
      "text/plain": [
       "array(['Angry', 'Angry', 'Angry', ..., 'Surprised', 'Surprised',\n",
       "       'Surprised'], dtype=object)"
      ]
     },
     "execution_count": 15,
     "metadata": {},
     "output_type": "execute_result"
    }
   ],
   "source": [
    "y"
   ]
  },
  {
   "cell_type": "code",
   "execution_count": 23,
   "metadata": {
    "collapsed": true
   },
   "outputs": [],
   "source": [
    "from sklearn.preprocessing import LabelEncoder\n",
    "labelencoder = LabelEncoder()\n",
    "y = labelencoder.fit_transform(y)"
   ]
  },
  {
   "cell_type": "code",
   "execution_count": 31,
   "metadata": {},
   "outputs": [
    {
     "data": {
      "text/plain": [
       "array([0, 0, 0, ..., 7, 7, 7], dtype=int64)"
      ]
     },
     "execution_count": 31,
     "metadata": {},
     "output_type": "execute_result"
    }
   ],
   "source": [
    "y"
   ]
  },
  {
   "cell_type": "code",
   "execution_count": 32,
   "metadata": {},
   "outputs": [
    {
     "data": {
      "text/plain": [
       "array([[ 0.78704605,  0.55582953, -0.21773949, ..., -1.29635735,\n",
       "        -1.07181973, -0.90654751],\n",
       "       [ 0.09843057,  0.58356995, -0.28200734, ..., -1.09849254,\n",
       "        -0.72649185, -0.83994549],\n",
       "       [-0.44672335, -0.35960454, -0.34739049, ..., -1.2583833 ,\n",
       "        -1.02899654, -0.89792279],\n",
       "       ...,\n",
       "       [ 1.30350766,  0.55582953, -0.1989671 , ...,  2.33915878,\n",
       "         2.27113136,  3.05235955],\n",
       "       [ 0.58619987,  1.11063805,  0.02519739, ...,  1.87947284,\n",
       "         1.78594252,  2.4933498 ],\n",
       "       [ 1.76258464,  1.08289762, -0.06424756, ...,  2.05934995,\n",
       "         1.91251352,  2.68501029]])"
      ]
     },
     "execution_count": 32,
     "metadata": {},
     "output_type": "execute_result"
    }
   ],
   "source": [
    "from sklearn.preprocessing import StandardScaler\n",
    "sc_X = StandardScaler()\n",
    "X = sc_X.fit_transform(X)\n",
    "X"
   ]
  },
  {
   "cell_type": "code",
   "execution_count": 33,
   "metadata": {},
   "outputs": [],
   "source": [
    "from sklearn.cross_validation import train_test_split\n",
    "X_train, X_test, y_train, y_test = train_test_split(X, y, test_size = 0.3, random_state = 42)"
   ]
  },
  {
   "cell_type": "code",
   "execution_count": 34,
   "metadata": {},
   "outputs": [
    {
     "data": {
      "text/plain": [
       "array([[-0.87710803, -0.6370088 ,  2.40597882, ..., -0.64280388,\n",
       "        -0.22442688, -0.68182559],\n",
       "       [-0.38933873, -0.02671942, -0.06866459, ..., -0.78270829,\n",
       "        -0.95685107, -0.70738032],\n",
       "       [ 0.91616145,  0.30616569, -0.34821869, ..., -0.59283801,\n",
       "        -0.57460665, -0.64349349],\n",
       "       ...,\n",
       "       [ 0.28493059,  0.5280891 , -0.2254693 , ...,  1.04004636,\n",
       "         0.89150745,  1.23158493],\n",
       "       [ 0.68662296,  0.41712739, -0.29713568, ..., -0.38697866,\n",
       "        -0.71383475, -0.57321798],\n",
       "       [ 1.60477693,  0.97193592, -0.34501634, ..., -0.76472058,\n",
       "        -0.95010062, -0.72974071]])"
      ]
     },
     "execution_count": 34,
     "metadata": {},
     "output_type": "execute_result"
    }
   ],
   "source": [
    "X_train"
   ]
  },
  {
   "cell_type": "code",
   "execution_count": 35,
   "metadata": {},
   "outputs": [
    {
     "data": {
      "text/plain": [
       "array([0, 6, 2, ..., 7, 4, 6], dtype=int64)"
      ]
     },
     "execution_count": 35,
     "metadata": {},
     "output_type": "execute_result"
    }
   ],
   "source": [
    "y_train"
   ]
  },
  {
   "cell_type": "code",
   "execution_count": 36,
   "metadata": {},
   "outputs": [
    {
     "data": {
      "text/plain": [
       "432"
      ]
     },
     "execution_count": 36,
     "metadata": {},
     "output_type": "execute_result"
    }
   ],
   "source": [
    "y_test.size"
   ]
  },
  {
   "cell_type": "code",
   "execution_count": null,
   "metadata": {
    "collapsed": true
   },
   "outputs": [],
   "source": []
  }
 ],
 "metadata": {
  "kernelspec": {
   "display_name": "Python 3",
   "language": "python",
   "name": "python3"
  },
  "language_info": {
   "codemirror_mode": {
    "name": "ipython",
    "version": 3
   },
   "file_extension": ".py",
   "mimetype": "text/x-python",
   "name": "python",
   "nbconvert_exporter": "python",
   "pygments_lexer": "ipython3",
   "version": "3.6.3"
  }
 },
 "nbformat": 4,
 "nbformat_minor": 2
}
