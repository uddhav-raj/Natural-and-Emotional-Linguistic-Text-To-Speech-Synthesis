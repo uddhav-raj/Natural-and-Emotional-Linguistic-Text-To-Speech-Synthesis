{
 "cells": [
  {
   "cell_type": "code",
   "execution_count": 1,
   "metadata": {
    "collapsed": true
   },
   "outputs": [],
   "source": [
    "import plotly.graph_objs as go\n",
    "import plotly.plotly as py\n",
    "from plotly.graph_objs import *\n",
    "py.sign_in('uddhav_raj', 'CjF4g9aLgozQkwyRsyUH')"
   ]
  },
  {
   "cell_type": "code",
   "execution_count": 2,
   "metadata": {
    "collapsed": true
   },
   "outputs": [],
   "source": [
    "import numpy as np\n",
    "import matplotlib.pyplot as plt\n",
    "import pandas as pd"
   ]
  },
  {
   "cell_type": "code",
   "execution_count": 3,
   "metadata": {
    "collapsed": true
   },
   "outputs": [],
   "source": [
    "def scatter_with_color_dimension_graph(feature, target, layout_labels):\n",
    "    \"\"\"\n",
    "    Scatter with color dimension graph to visualize the density of the\n",
    "    Given feature with target\n",
    "    :param feature:\n",
    "    :param target:\n",
    "    :param layout_labels:\n",
    "    :return:\n",
    "    \"\"\"\n",
    "    trace1 = go.Scatter(\n",
    "        y=feature,\n",
    "        mode='markers',\n",
    "        marker=dict(\n",
    "            size=16,\n",
    "            color=target,\n",
    "            colorscale='Viridis',\n",
    "            showscale=True\n",
    "        )\n",
    "    )\n",
    "    layout = go.Layout(\n",
    "        title=layout_labels[2],\n",
    "        xaxis=dict(title=layout_labels[0]), yaxis=dict(title=layout_labels[1]))\n",
    "    data = [trace1]\n",
    "    fig = Figure(data=data, layout=layout)\n",
    "    plot_url = py.plot(fig)\n",
    "    plot_url\n",
    "    #py.image.save_as(fig, filename=layout_labels[1] + '_Density.png')"
   ]
  },
  {
   "cell_type": "code",
   "execution_count": 4,
   "metadata": {},
   "outputs": [
    {
     "data": {
      "text/html": [
       "<div>\n",
       "<style>\n",
       "    .dataframe thead tr:only-child th {\n",
       "        text-align: right;\n",
       "    }\n",
       "\n",
       "    .dataframe thead th {\n",
       "        text-align: left;\n",
       "    }\n",
       "\n",
       "    .dataframe tbody tr th {\n",
       "        vertical-align: top;\n",
       "    }\n",
       "</style>\n",
       "<table border=\"1\" class=\"dataframe\">\n",
       "  <thead>\n",
       "    <tr style=\"text-align: right;\">\n",
       "      <th></th>\n",
       "      <th>Spectral Centroid</th>\n",
       "      <th>Spectral Rolloff Point</th>\n",
       "      <th>Spectral Flux</th>\n",
       "      <th>Compactness</th>\n",
       "      <th>Spectral Variability</th>\n",
       "      <th>Root Mean Square</th>\n",
       "      <th>Fraction Of Low Energy Windows</th>\n",
       "      <th>Zero Crossings</th>\n",
       "      <th>Strongest Frequency Via Zero Crossings</th>\n",
       "      <th>Strongest Frequency Via Spectral Centroid</th>\n",
       "      <th>...</th>\n",
       "      <th>First Formant</th>\n",
       "      <th>Second Formant</th>\n",
       "      <th>Third Formant</th>\n",
       "      <th>Minimum Intensity</th>\n",
       "      <th>Maximum Intensity</th>\n",
       "      <th>Mean Intensity</th>\n",
       "      <th>Minimum Pitch</th>\n",
       "      <th>Maximum Pitch</th>\n",
       "      <th>Mean Pitch</th>\n",
       "      <th>Emotion</th>\n",
       "    </tr>\n",
       "  </thead>\n",
       "  <tbody>\n",
       "    <tr>\n",
       "      <th>0</th>\n",
       "      <td>50.2</td>\n",
       "      <td>0.316</td>\n",
       "      <td>0.000124</td>\n",
       "      <td>753.0</td>\n",
       "      <td>0.000338</td>\n",
       "      <td>0.01280</td>\n",
       "      <td>0.000000e+00</td>\n",
       "      <td>70.5</td>\n",
       "      <td>1100.0</td>\n",
       "      <td>1570.0</td>\n",
       "      <td>...</td>\n",
       "      <td>710.0</td>\n",
       "      <td>1090.0</td>\n",
       "      <td>2780.0</td>\n",
       "      <td>68.7</td>\n",
       "      <td>68.7</td>\n",
       "      <td>68.7</td>\n",
       "      <td>211.0</td>\n",
       "      <td>508.0</td>\n",
       "      <td>261.0</td>\n",
       "      <td>Angry</td>\n",
       "    </tr>\n",
       "    <tr>\n",
       "      <th>1</th>\n",
       "      <td>45.4</td>\n",
       "      <td>0.317</td>\n",
       "      <td>0.000066</td>\n",
       "      <td>714.0</td>\n",
       "      <td>0.000266</td>\n",
       "      <td>0.01030</td>\n",
       "      <td>0.000000e+00</td>\n",
       "      <td>54.9</td>\n",
       "      <td>858.0</td>\n",
       "      <td>1420.0</td>\n",
       "      <td>...</td>\n",
       "      <td>503.0</td>\n",
       "      <td>2690.0</td>\n",
       "      <td>2950.0</td>\n",
       "      <td>57.4</td>\n",
       "      <td>57.4</td>\n",
       "      <td>57.4</td>\n",
       "      <td>200.0</td>\n",
       "      <td>392.0</td>\n",
       "      <td>280.0</td>\n",
       "      <td>Angry</td>\n",
       "    </tr>\n",
       "    <tr>\n",
       "      <th>2</th>\n",
       "      <td>41.6</td>\n",
       "      <td>0.283</td>\n",
       "      <td>0.000007</td>\n",
       "      <td>530.0</td>\n",
       "      <td>0.000084</td>\n",
       "      <td>0.00337</td>\n",
       "      <td>1.130000e-16</td>\n",
       "      <td>62.6</td>\n",
       "      <td>978.0</td>\n",
       "      <td>1300.0</td>\n",
       "      <td>...</td>\n",
       "      <td>456.0</td>\n",
       "      <td>2150.0</td>\n",
       "      <td>2760.0</td>\n",
       "      <td>42.1</td>\n",
       "      <td>42.1</td>\n",
       "      <td>42.1</td>\n",
       "      <td>200.0</td>\n",
       "      <td>551.0</td>\n",
       "      <td>301.0</td>\n",
       "      <td>Angry</td>\n",
       "    </tr>\n",
       "    <tr>\n",
       "      <th>3</th>\n",
       "      <td>50.7</td>\n",
       "      <td>0.340</td>\n",
       "      <td>0.000084</td>\n",
       "      <td>766.0</td>\n",
       "      <td>0.000314</td>\n",
       "      <td>0.01240</td>\n",
       "      <td>0.000000e+00</td>\n",
       "      <td>60.6</td>\n",
       "      <td>946.0</td>\n",
       "      <td>1590.0</td>\n",
       "      <td>...</td>\n",
       "      <td>430.0</td>\n",
       "      <td>1110.0</td>\n",
       "      <td>3010.0</td>\n",
       "      <td>60.8</td>\n",
       "      <td>60.8</td>\n",
       "      <td>60.8</td>\n",
       "      <td>200.0</td>\n",
       "      <td>403.0</td>\n",
       "      <td>283.0</td>\n",
       "      <td>Angry</td>\n",
       "    </tr>\n",
       "    <tr>\n",
       "      <th>4</th>\n",
       "      <td>38.1</td>\n",
       "      <td>0.268</td>\n",
       "      <td>0.000133</td>\n",
       "      <td>694.0</td>\n",
       "      <td>0.000377</td>\n",
       "      <td>0.01490</td>\n",
       "      <td>2.270000e-16</td>\n",
       "      <td>56.4</td>\n",
       "      <td>882.0</td>\n",
       "      <td>1190.0</td>\n",
       "      <td>...</td>\n",
       "      <td>1130.0</td>\n",
       "      <td>2510.0</td>\n",
       "      <td>2680.0</td>\n",
       "      <td>50.1</td>\n",
       "      <td>50.1</td>\n",
       "      <td>50.1</td>\n",
       "      <td>205.0</td>\n",
       "      <td>535.0</td>\n",
       "      <td>292.0</td>\n",
       "      <td>Angry</td>\n",
       "    </tr>\n",
       "  </tbody>\n",
       "</table>\n",
       "<p>5 rows × 71 columns</p>\n",
       "</div>"
      ],
      "text/plain": [
       "   Spectral Centroid  Spectral Rolloff Point   Spectral Flux   Compactness  \\\n",
       "0               50.2                    0.316        0.000124        753.0   \n",
       "1               45.4                    0.317        0.000066        714.0   \n",
       "2               41.6                    0.283        0.000007        530.0   \n",
       "3               50.7                    0.340        0.000084        766.0   \n",
       "4               38.1                    0.268        0.000133        694.0   \n",
       "\n",
       "   Spectral Variability   Root Mean Square   Fraction Of Low Energy Windows   \\\n",
       "0               0.000338            0.01280                     0.000000e+00   \n",
       "1               0.000266            0.01030                     0.000000e+00   \n",
       "2               0.000084            0.00337                     1.130000e-16   \n",
       "3               0.000314            0.01240                     0.000000e+00   \n",
       "4               0.000377            0.01490                     2.270000e-16   \n",
       "\n",
       "   Zero Crossings   Strongest Frequency Via Zero Crossings   \\\n",
       "0             70.5                                   1100.0   \n",
       "1             54.9                                    858.0   \n",
       "2             62.6                                    978.0   \n",
       "3             60.6                                    946.0   \n",
       "4             56.4                                    882.0   \n",
       "\n",
       "   Strongest Frequency Via Spectral Centroid    ...     First Formant   \\\n",
       "0                                      1570.0   ...              710.0   \n",
       "1                                      1420.0   ...              503.0   \n",
       "2                                      1300.0   ...              456.0   \n",
       "3                                      1590.0   ...              430.0   \n",
       "4                                      1190.0   ...             1130.0   \n",
       "\n",
       "   Second Formant  Third Formant  Minimum Intensity  Maximum Intensity  \\\n",
       "0          1090.0         2780.0               68.7               68.7   \n",
       "1          2690.0         2950.0               57.4               57.4   \n",
       "2          2150.0         2760.0               42.1               42.1   \n",
       "3          1110.0         3010.0               60.8               60.8   \n",
       "4          2510.0         2680.0               50.1               50.1   \n",
       "\n",
       "   Mean Intensity  Minimum Pitch  Maximum Pitch  Mean Pitch  Emotion  \n",
       "0            68.7          211.0          508.0       261.0    Angry  \n",
       "1            57.4          200.0          392.0       280.0    Angry  \n",
       "2            42.1          200.0          551.0       301.0    Angry  \n",
       "3            60.8          200.0          403.0       283.0    Angry  \n",
       "4            50.1          205.0          535.0       292.0    Angry  \n",
       "\n",
       "[5 rows x 71 columns]"
      ]
     },
     "execution_count": 4,
     "metadata": {},
     "output_type": "execute_result"
    }
   ],
   "source": [
    "dataset = pd.read_csv('dataset.csv')\n",
    "dataset = dataset.iloc[:,1:]\n",
    "dataset.head()"
   ]
  },
  {
   "cell_type": "code",
   "execution_count": 7,
   "metadata": {},
   "outputs": [],
   "source": [
    "X = dataset.iloc[:, 1:2].values\n",
    "y = dataset.iloc[:, 70].values"
   ]
  },
  {
   "cell_type": "code",
   "execution_count": 8,
   "metadata": {},
   "outputs": [
    {
     "data": {
      "text/plain": [
       "array([[0.316],\n",
       "       [0.317],\n",
       "       [0.283],\n",
       "       ...,\n",
       "       [0.316],\n",
       "       [0.336],\n",
       "       [0.335]])"
      ]
     },
     "execution_count": 8,
     "metadata": {},
     "output_type": "execute_result"
    }
   ],
   "source": [
    "X"
   ]
  },
  {
   "cell_type": "code",
   "execution_count": 12,
   "metadata": {
    "scrolled": false
   },
   "outputs": [
    {
     "data": {
      "text/plain": [
       "numpy.ndarray"
      ]
     },
     "execution_count": 12,
     "metadata": {},
     "output_type": "execute_result"
    }
   ],
   "source": [
    "type(X)"
   ]
  },
  {
   "cell_type": "code",
   "execution_count": 9,
   "metadata": {
    "collapsed": true
   },
   "outputs": [],
   "source": [
    "from sklearn.preprocessing import LabelEncoder\n",
    "labelencoder = LabelEncoder()\n",
    "y = labelencoder.fit_transform(y)"
   ]
  },
  {
   "cell_type": "code",
   "execution_count": 10,
   "metadata": {},
   "outputs": [
    {
     "data": {
      "text/plain": [
       "array([0, 0, 0, ..., 7, 7, 7], dtype=int64)"
      ]
     },
     "execution_count": 10,
     "metadata": {},
     "output_type": "execute_result"
    }
   ],
   "source": [
    "y"
   ]
  },
  {
   "cell_type": "code",
   "execution_count": 11,
   "metadata": {
    "collapsed": true
   },
   "outputs": [],
   "source": [
    "graph_labels = [\"Number of Observations\", \"Spectral Rolloff Point\", \"Spectral_Rolloff_Point - Emotion Density Graph\"]\n",
    " \n",
    "scatter_with_color_dimension_graph(list(X),y, graph_labels)"
   ]
  },
  {
   "cell_type": "markdown",
   "metadata": {},
   "source": [
    "![title](Spectral Rolloff Point_Density.jpeg)"
   ]
  },
  {
   "cell_type": "code",
   "execution_count": 28,
   "metadata": {
    "collapsed": true
   },
   "outputs": [],
   "source": [
    "X = dataset.iloc[:, 34:35].values"
   ]
  },
  {
   "cell_type": "code",
   "execution_count": 29,
   "metadata": {
    "collapsed": true
   },
   "outputs": [],
   "source": [
    "graph_labels = [\"Number of Observations\", \"Method of Moments 1\", \"Method_Of_Moments_1 - Emotion Density Graph\"]\n",
    " \n",
    "scatter_with_color_dimension_graph(list(X),y, graph_labels)"
   ]
  },
  {
   "cell_type": "markdown",
   "metadata": {},
   "source": [
    "![title](Method_Of_Moments_1.png)"
   ]
  },
  {
   "cell_type": "code",
   "execution_count": 30,
   "metadata": {
    "collapsed": true
   },
   "outputs": [],
   "source": [
    "X = dataset.iloc[:, 60].values"
   ]
  },
  {
   "cell_type": "code",
   "execution_count": 31,
   "metadata": {
    "collapsed": true
   },
   "outputs": [],
   "source": [
    "graph_labels = [\"Number of Observations\", \"Method of Moments 10\", \"Method_Of_Moments_10 - Emotion Density Graph\"]\n",
    " \n",
    "scatter_with_color_dimension_graph(list(X),y, graph_labels)"
   ]
  },
  {
   "cell_type": "markdown",
   "metadata": {},
   "source": [
    "![title](Method_Of_Moments_10.png)"
   ]
  },
  {
   "cell_type": "code",
   "execution_count": 16,
   "metadata": {
    "collapsed": true
   },
   "outputs": [],
   "source": [
    "def scatter_with_color_dimension_graph2(feature, target, layout_labels):\n",
    "    \"\"\"\n",
    "    Scatter with color dimension graph to visualize the density of the\n",
    "    Given feature with target\n",
    "    :param feature:\n",
    "    :param target:\n",
    "    :param layout_labels:\n",
    "    :return:\n",
    "    \"\"\"\n",
    "    trace1 = go.Scatter(\n",
    "        y=feature,\n",
    "        mode='markers',\n",
    "        marker=dict(\n",
    "            size=16,\n",
    "            color=target,\n",
    "            colorscale='Viridis',\n",
    "            showscale=True\n",
    "        )\n",
    "    )\n",
    "    layout = go.Layout(\n",
    "        title=layout_labels[2],\n",
    "        xaxis=dict(title=layout_labels[0]), yaxis=dict(title=layout_labels[1]))\n",
    "    data = [trace1]\n",
    "    fig = Figure(data=data, layout=layout)\n",
    "    py.iplot(fig, filename='jupyter-parametric_plot')\n",
    "    #plot_url\n",
    "    #py.image.save_as(fig, filename=layout_labels[1] + '_Density.png')"
   ]
  },
  {
   "cell_type": "code",
   "execution_count": 12,
   "metadata": {
    "collapsed": true
   },
   "outputs": [],
   "source": [
    "X = dataset.iloc[:, 61].values"
   ]
  },
  {
   "cell_type": "code",
   "execution_count": 17,
   "metadata": {
    "collapsed": true
   },
   "outputs": [],
   "source": [
    "graph_labels = [\"Number of Observations\", \"First Formant\", \"First Formant - Emotion Density Graph\"]\n",
    " \n",
    "scatter_with_color_dimension_graph2(list(X),y, graph_labels)"
   ]
  },
  {
   "cell_type": "markdown",
   "metadata": {},
   "source": [
    "<img src=\"first_formant.png\">"
   ]
  },
  {
   "cell_type": "code",
   "execution_count": 18,
   "metadata": {
    "collapsed": true
   },
   "outputs": [],
   "source": [
    "X = dataset.iloc[:, 62].values"
   ]
  },
  {
   "cell_type": "code",
   "execution_count": 21,
   "metadata": {
    "collapsed": true
   },
   "outputs": [],
   "source": [
    "graph_labels = [\"Number of Observations\", \"Second Formant\", \"Second Formant - Emotion Density Graph\"]\n",
    " \n",
    "scatter_with_color_dimension_graph(list(X),y, graph_labels)"
   ]
  },
  {
   "cell_type": "markdown",
   "metadata": {},
   "source": [
    "<img src=\"Second_formant.png\">"
   ]
  },
  {
   "cell_type": "code",
   "execution_count": 20,
   "metadata": {
    "collapsed": true
   },
   "outputs": [],
   "source": [
    "X = dataset.iloc[:, 63].values"
   ]
  },
  {
   "cell_type": "code",
   "execution_count": 22,
   "metadata": {
    "collapsed": true
   },
   "outputs": [],
   "source": [
    "graph_labels = [\"Number of Observations\", \"Third Formant\", \"Third Formant - Emotion Density Graph\"]\n",
    " \n",
    "scatter_with_color_dimension_graph(list(X),y, graph_labels)"
   ]
  },
  {
   "cell_type": "markdown",
   "metadata": {},
   "source": [
    "<img src=\"Third_formant.png\">"
   ]
  },
  {
   "cell_type": "code",
   "execution_count": 24,
   "metadata": {
    "collapsed": true
   },
   "outputs": [],
   "source": [
    "X = dataset.iloc[:, 64].values"
   ]
  },
  {
   "cell_type": "code",
   "execution_count": 25,
   "metadata": {
    "collapsed": true
   },
   "outputs": [],
   "source": [
    "graph_labels = [\"Number of Observations\", \"Minimum Intensity\", \"Minimum Intensity - Emotion Density Graph\"]\n",
    " \n",
    "scatter_with_color_dimension_graph(list(X),y, graph_labels)"
   ]
  },
  {
   "cell_type": "markdown",
   "metadata": {},
   "source": [
    "<img src=\"Min_intensity.png\">"
   ]
  },
  {
   "cell_type": "code",
   "execution_count": 26,
   "metadata": {
    "collapsed": true
   },
   "outputs": [],
   "source": [
    "X = dataset.iloc[:, 65].values"
   ]
  },
  {
   "cell_type": "code",
   "execution_count": 27,
   "metadata": {
    "collapsed": true
   },
   "outputs": [],
   "source": [
    "graph_labels = [\"Number of Observations\", \"Maximum Intensity\", \"Maximum Intensity - Emotion Density Graph\"]\n",
    " \n",
    "scatter_with_color_dimension_graph(list(X),y, graph_labels)"
   ]
  },
  {
   "cell_type": "markdown",
   "metadata": {},
   "source": [
    "<img src=\"Max_intensity.png\">"
   ]
  },
  {
   "cell_type": "code",
   "execution_count": 28,
   "metadata": {
    "collapsed": true
   },
   "outputs": [],
   "source": [
    "X = dataset.iloc[:, 66].values"
   ]
  },
  {
   "cell_type": "code",
   "execution_count": 29,
   "metadata": {
    "collapsed": true
   },
   "outputs": [],
   "source": [
    "graph_labels = [\"Number of Observations\", \"Mean Intensity\", \"Mean Intensity - Emotion Density Graph\"]\n",
    " \n",
    "scatter_with_color_dimension_graph(list(X),y, graph_labels)"
   ]
  },
  {
   "cell_type": "markdown",
   "metadata": {},
   "source": [
    "<img src=\"Mean_intensity.png\">"
   ]
  },
  {
   "cell_type": "code",
   "execution_count": 30,
   "metadata": {
    "collapsed": true
   },
   "outputs": [],
   "source": [
    "X = dataset.iloc[:, 67].values"
   ]
  },
  {
   "cell_type": "code",
   "execution_count": 31,
   "metadata": {
    "collapsed": true
   },
   "outputs": [],
   "source": [
    "graph_labels = [\"Number of Observations\", \"Minimum Pitch\", \"Minimum Pitch - Emotion Density Graph\"]\n",
    " \n",
    "scatter_with_color_dimension_graph(list(X),y, graph_labels)"
   ]
  },
  {
   "cell_type": "markdown",
   "metadata": {},
   "source": [
    "<img src=\"Min_pitch.png\">"
   ]
  },
  {
   "cell_type": "code",
   "execution_count": 32,
   "metadata": {
    "collapsed": true
   },
   "outputs": [],
   "source": [
    "X = dataset.iloc[:, 68].values"
   ]
  },
  {
   "cell_type": "code",
   "execution_count": 33,
   "metadata": {
    "collapsed": true
   },
   "outputs": [],
   "source": [
    "graph_labels = [\"Number of Observations\", \"Maximum Pitch\", \"Maximum Pitch - Emotion Density Graph\"]\n",
    " \n",
    "scatter_with_color_dimension_graph(list(X),y, graph_labels)"
   ]
  },
  {
   "cell_type": "markdown",
   "metadata": {},
   "source": [
    "<img src=\"Max_pitch.png\">"
   ]
  },
  {
   "cell_type": "code",
   "execution_count": 34,
   "metadata": {
    "collapsed": true
   },
   "outputs": [],
   "source": [
    "X = dataset.iloc[:, 69].values"
   ]
  },
  {
   "cell_type": "code",
   "execution_count": 35,
   "metadata": {
    "collapsed": true
   },
   "outputs": [],
   "source": [
    "graph_labels = [\"Number of Observations\", \"Mean Pitch\", \"Mean Pitch - Emotion Density Graph\"]\n",
    " \n",
    "scatter_with_color_dimension_graph(list(X),y, graph_labels)"
   ]
  },
  {
   "cell_type": "markdown",
   "metadata": {},
   "source": [
    "<img src=\"Mean_pitch.png\">"
   ]
  },
  {
   "cell_type": "code",
   "execution_count": null,
   "metadata": {
    "collapsed": true
   },
   "outputs": [],
   "source": []
  }
 ],
 "metadata": {
  "kernelspec": {
   "display_name": "Python 3",
   "language": "python",
   "name": "python3"
  },
  "language_info": {
   "codemirror_mode": {
    "name": "ipython",
    "version": 3
   },
   "file_extension": ".py",
   "mimetype": "text/x-python",
   "name": "python",
   "nbconvert_exporter": "python",
   "pygments_lexer": "ipython3",
   "version": "3.6.3"
  }
 },
 "nbformat": 4,
 "nbformat_minor": 2
}
